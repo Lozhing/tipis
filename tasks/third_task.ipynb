{
 "cells": [
  {
   "cell_type": "code",
   "execution_count": 31,
   "id": "63539d20-f094-4dc5-a83f-850a245caf3e",
   "metadata": {},
   "outputs": [],
   "source": [
    "from sklearn.model_selection import train_test_split\n",
    "from sklearn.feature_selection import mutual_info_classif"
   ]
  },
  {
   "cell_type": "code",
   "execution_count": 38,
   "id": "764ce79d-da04-4434-9d0d-ebc6b78d15f0",
   "metadata": {},
   "outputs": [],
   "source": [
    "df = pd.read_csv('bank-full.csv', sep=';')"
   ]
  },
  {
   "cell_type": "code",
   "execution_count": 39,
   "id": "f9c3d183-11d9-4114-932f-ba14c4f5bfc8",
   "metadata": {},
   "outputs": [
    {
     "data": {
      "text/plain": [
       "age          0\n",
       "job          0\n",
       "marital      0\n",
       "education    0\n",
       "default      0\n",
       "balance      0\n",
       "housing      0\n",
       "loan         0\n",
       "contact      0\n",
       "day          0\n",
       "month        0\n",
       "duration     0\n",
       "campaign     0\n",
       "pdays        0\n",
       "previous     0\n",
       "poutcome     0\n",
       "y            0\n",
       "dtype: int64"
      ]
     },
     "execution_count": 39,
     "metadata": {},
     "output_type": "execute_result"
    }
   ],
   "source": [
    "#Проверка на пропуски\n",
    "df.isnull().sum()"
   ]
  },
  {
   "cell_type": "code",
   "execution_count": 40,
   "id": "b1fca908-9e41-4b8b-8204-fd36a3d5f963",
   "metadata": {},
   "outputs": [
    {
     "data": {
      "text/plain": [
       "0    secondary\n",
       "Name: education, dtype: object"
      ]
     },
     "execution_count": 40,
     "metadata": {},
     "output_type": "execute_result"
    }
   ],
   "source": [
    "#Вопрос 1: Mode для столбца education\n",
    "df['education'].mode()"
   ]
  },
  {
   "cell_type": "code",
   "execution_count": 41,
   "id": "a47e5ca2-0c01-451b-8e2e-110f6ff4eb02",
   "metadata": {},
   "outputs": [
    {
     "name": "stdout",
     "output_type": "stream",
     "text": [
      "               age   balance       day  duration  campaign     pdays  previous\n",
      "age       1.000000  0.097783 -0.009120 -0.004648  0.004760 -0.023758  0.001288\n",
      "balance   0.097783  1.000000  0.004503  0.021560 -0.014578  0.003435  0.016674\n",
      "day      -0.009120  0.004503  1.000000 -0.030206  0.162490 -0.093044 -0.051710\n",
      "duration -0.004648  0.021560 -0.030206  1.000000 -0.084570 -0.001565  0.001203\n",
      "campaign  0.004760 -0.014578  0.162490 -0.084570  1.000000 -0.088628 -0.032855\n",
      "pdays    -0.023758  0.003435 -0.093044 -0.001565 -0.088628  1.000000  0.454820\n",
      "previous  0.001288  0.016674 -0.051710  0.001203 -0.032855  0.454820  1.000000\n"
     ]
    }
   ],
   "source": [
    "#Вопрос 2: Корреляционная матрица\n",
    "corr_matrix = df[['age', 'balance', 'day', 'duration', 'campaign', 'pdays', 'previous']].corr()\n",
    "print(corr_matrix)"
   ]
  },
  {
   "cell_type": "code",
   "execution_count": 42,
   "id": "d71033ec-2e2a-4c93-93a0-757780f7d543",
   "metadata": {},
   "outputs": [],
   "source": [
    "#Наибольшая корреляция у pdays и previous = 0.454820"
   ]
  },
  {
   "cell_type": "code",
   "execution_count": 43,
   "id": "f09abaa2-ea36-475b-a56c-e43eebbdba80",
   "metadata": {},
   "outputs": [
    {
     "name": "stdout",
     "output_type": "stream",
     "text": [
      "Взаимная информация:\n",
      " age                    0.01\n",
      "balance                0.10\n",
      "day                    0.01\n",
      "duration               0.10\n",
      "campaign               0.00\n",
      "pdays                  0.03\n",
      "previous               0.01\n",
      "job_blue-collar        0.00\n",
      "job_entrepreneur       0.00\n",
      "job_housemaid          0.00\n",
      "job_management         0.00\n",
      "job_retired            0.00\n",
      "job_self-employed      0.00\n",
      "job_services           0.00\n",
      "job_student            0.00\n",
      "job_technician         0.00\n",
      "job_unemployed         0.00\n",
      "job_unknown            0.00\n",
      "marital_married        0.00\n",
      "marital_single         0.00\n",
      "education_secondary    0.00\n",
      "education_tertiary     0.00\n",
      "education_unknown      0.00\n",
      "default_yes            0.00\n",
      "housing_yes            0.01\n",
      "loan_yes               0.00\n",
      "contact_telephone      0.00\n",
      "contact_unknown        0.01\n",
      "month_aug              0.00\n",
      "month_dec              0.00\n",
      "month_feb              0.00\n",
      "month_jan              0.00\n",
      "month_jul              0.00\n",
      "month_jun              0.00\n",
      "month_mar              0.01\n",
      "month_may              0.01\n",
      "month_nov              0.00\n",
      "month_oct              0.01\n",
      "month_sep              0.00\n",
      "poutcome_other         0.00\n",
      "poutcome_success       0.03\n",
      "poutcome_unknown       0.01\n",
      "dtype: float64\n"
     ]
    }
   ],
   "source": [
    "#Вопрос 3: Взаимная информация\n",
    "features = ['age', 'job', 'marital', 'education', 'balance', 'housing', \n",
    "            'contact', 'day', 'month', 'duration', 'campaign', \n",
    "            'pdays', 'previous', 'poutcome']\n",
    "df['y'] = df['y'].apply(lambda x: 1 if x == 'yes' else 0)\n",
    "X = df.drop(columns=['y'])\n",
    "y = df['y']\n",
    "\n",
    "# Применение one-hot кодирования к категориальным переменным\n",
    "X_encoded = pd.get_dummies(X, drop_first=True)\n",
    "\n",
    "# Разделение данных на тренировочный и тестовый наборы\n",
    "X_train, X_val, y_train, y_val = train_test_split(X_encoded, y, test_size=0.2, random_state=42)\n",
    "\n",
    "# Вычисление взаимной информации\n",
    "mi_scores = mutual_info_classif(X_train, y_train, discrete_features=True)\n",
    "mi_scores_series = pd.Series(mi_scores, index=X_train.columns)\n",
    "print(\"Взаимная информация:\\n\", mi_scores_series.round(2))"
   ]
  },
  {
   "cell_type": "code",
   "execution_count": 46,
   "id": "1a947a1e-2ac0-40d2-822a-249a895e7e52",
   "metadata": {},
   "outputs": [
    {
     "name": "stdout",
     "output_type": "stream",
     "text": [
      "Точность на валидационном наборе: 0.9\n"
     ]
    }
   ],
   "source": [
    "#Вопрос 4: Логистическая регрессия\n",
    "from sklearn.linear_model import LogisticRegression\n",
    "from sklearn.metrics import accuracy_score\n",
    "\n",
    "model = LogisticRegression(solver='liblinear', C=1.0, max_iter=1000, random_state=42)\n",
    "model.fit(X_train, y_train)\n",
    "\n",
    "accuracy = accuracy_score(y_val, model.predict(X_val))\n",
    "print(\"Точность на валидационном наборе:\", round(accuracy, 2))"
   ]
  },
  {
   "cell_type": "code",
   "execution_count": 47,
   "id": "b28bc1fa-49b8-46bd-935a-aeec9fa7e83c",
   "metadata": {},
   "outputs": [
    {
     "name": "stdout",
     "output_type": "stream",
     "text": [
      "Признак: age, Разница в точности: 0.0007\n",
      "Признак: balance, Разница в точности: 0.0004\n",
      "Признак: day, Разница в точности: -0.0002\n",
      "Признак: duration, Разница в точности: 0.0096\n",
      "Признак: campaign, Разница в точности: 0.0003\n",
      "Признак: pdays, Разница в точности: 0.0007\n",
      "Признак: previous, Разница в точности: -0.0001\n",
      "Признак: job_blue-collar, Разница в точности: -0.0002\n",
      "Признак: job_entrepreneur, Разница в точности: -0.0001\n",
      "Признак: job_housemaid, Разница в точности: -0.0001\n",
      "Признак: job_management, Разница в точности: -0.0002\n",
      "Признак: job_retired, Разница в точности: 0.0002\n",
      "Признак: job_self-employed, Разница в точности: 0.0008\n",
      "Признак: job_services, Разница в точности: -0.0007\n",
      "Признак: job_student, Разница в точности: 0.0008\n",
      "Признак: job_technician, Разница в точности: -0.0004\n",
      "Признак: job_unemployed, Разница в точности: 0.0008\n",
      "Признак: job_unknown, Разница в точности: 0.0006\n",
      "Признак: marital_married, Разница в точности: 0.0001\n",
      "Признак: marital_single, Разница в точности: -0.0003\n",
      "Признак: education_secondary, Разница в точности: -0.0001\n",
      "Признак: education_tertiary, Разница в точности: 0.0003\n",
      "Признак: education_unknown, Разница в точности: 0.0004\n",
      "Признак: default_yes, Разница в точности: 0.0004\n",
      "Признак: housing_yes, Разница в точности: 0.0006\n",
      "Признак: loan_yes, Разница в точности: -0.0001\n",
      "Признак: contact_telephone, Разница в точности: 0.0002\n",
      "Признак: contact_unknown, Разница в точности: 0.0012\n",
      "Признак: month_aug, Разница в точности: 0.0017\n",
      "Признак: month_dec, Разница в точности: 0.0008\n",
      "Признак: month_feb, Разница в точности: 0.001\n",
      "Признак: month_jan, Разница в точности: 0.0009\n",
      "Признак: month_jul, Разница в точности: 0.0006\n",
      "Признак: month_jun, Разница в точности: -0.0001\n",
      "Признак: month_mar, Разница в точности: -0.0001\n",
      "Признак: month_may, Разница в точности: 0.0002\n",
      "Признак: month_nov, Разница в точности: 0.0007\n",
      "Признак: month_oct, Разница в точности: 0.0009\n",
      "Признак: month_sep, Разница в точности: -0.0001\n",
      "Признак: poutcome_other, Разница в точности: 0.0\n",
      "Признак: poutcome_success, Разница в точности: 0.0059\n",
      "Признак: poutcome_unknown, Разница в точности: -0.0006\n"
     ]
    }
   ],
   "source": [
    "#Вопрос 5: Исключение признаков\n",
    "initial_accuracy = accuracy\n",
    "\n",
    "for col in X_train.columns:\n",
    "    X_train_reduced = X_train.drop(columns=[col])\n",
    "    X_val_reduced = X_val.drop(columns=[col])\n",
    "    \n",
    "    model.fit(X_train_reduced, y_train)\n",
    "    y_pred_val_reduced = model.predict(X_val_reduced)\n",
    "    accuracy_reduced = accuracy_score(y_val, y_pred_val_reduced)\n",
    "    \n",
    "    print(f'Признак: {col}, Разница в точности: {round(initial_accuracy - accuracy_reduced, 4)}')"
   ]
  },
  {
   "cell_type": "code",
   "execution_count": 48,
   "id": "7e48b2bb-2b4e-4628-9be4-23a87fadfe10",
   "metadata": {},
   "outputs": [],
   "source": [
    "#Наименьшая разница у previous = -0.0001"
   ]
  },
  {
   "cell_type": "code",
   "execution_count": 52,
   "id": "510206b6-0105-4f93-abf8-7ce7a5948f93",
   "metadata": {},
   "outputs": [
    {
     "name": "stdout",
     "output_type": "stream",
     "text": [
      "Точность при C=0.01: 0.8963\n",
      "Точность при C=0.1: 0.898\n",
      "Точность при C=1: 0.8996\n",
      "Точность при C=10: 0.8995\n",
      "Точность при C=100: 0.8996\n",
      "Наилучшее значение C: 1\n"
     ]
    }
   ],
   "source": [
    "#Вопрос 6: Регуляризованная логистическая регрессия \n",
    "C_values = [0.01, 0.1, 1, 10, 100]\n",
    "best_accuracy = 0\n",
    "best_C = 0\n",
    "accuracies = []\n",
    "\n",
    "for C in C_values:\n",
    "    model = LogisticRegression(solver='liblinear', C=C, max_iter=1000, random_state=42)\n",
    "    model.fit(X_train, y_train)\n",
    "    accuracy = accuracy_score(y_val, model.predict(X_val))\n",
    "    accuracies.append(accuracy)  # Сохраняем точность для каждого C\n",
    "    print(f\"Точность при C={C}: {round(accuracy, 4)}\")\n",
    "    \n",
    "    if accuracy > best_accuracy:\n",
    "        best_accuracy = accuracy\n",
    "        best_C = C\n",
    "\n",
    "print(\"Наилучшее значение C:\", best_C)"
   ]
  },
  {
   "cell_type": "code",
   "execution_count": null,
   "id": "78576e06-066f-47d9-8eed-1a3e3373ebf0",
   "metadata": {},
   "outputs": [],
   "source": []
  }
 ],
 "metadata": {
  "kernelspec": {
   "display_name": "Python 3 (ipykernel)",
   "language": "python",
   "name": "python3"
  },
  "language_info": {
   "codemirror_mode": {
    "name": "ipython",
    "version": 3
   },
   "file_extension": ".py",
   "mimetype": "text/x-python",
   "name": "python",
   "nbconvert_exporter": "python",
   "pygments_lexer": "ipython3",
   "version": "3.11.3"
  }
 },
 "nbformat": 4,
 "nbformat_minor": 5
}
