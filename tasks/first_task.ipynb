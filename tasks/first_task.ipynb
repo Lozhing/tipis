{
 "cells": [
  {
   "cell_type": "code",
   "execution_count": 2,
   "id": "df0e089b-96bf-4aa4-9e0c-f943e189c39a",
   "metadata": {},
   "outputs": [],
   "source": [
    "import pandas as pd"
   ]
  },
  {
   "cell_type": "code",
   "execution_count": 8,
   "id": "9d9768c5-c199-4d51-903d-7f9bbeaf97c1",
   "metadata": {},
   "outputs": [],
   "source": [
    "columns = ['age', 'workclass', 'fnlwgt', 'education', 'education-num', 'marital-status', 'occupation', 'relationship', 'race', 'sex', 'capital-gain', 'capital-loss', 'hours-per-week', 'native-country', 'income']"
   ]
  },
  {
   "cell_type": "code",
   "execution_count": 11,
   "id": "71f6782e-a2e5-49db-b263-8aafa7432f2a",
   "metadata": {
    "scrolled": true
   },
   "outputs": [
    {
     "data": {
      "text/html": [
       "<div>\n",
       "<style scoped>\n",
       "    .dataframe tbody tr th:only-of-type {\n",
       "        vertical-align: middle;\n",
       "    }\n",
       "\n",
       "    .dataframe tbody tr th {\n",
       "        vertical-align: top;\n",
       "    }\n",
       "\n",
       "    .dataframe thead th {\n",
       "        text-align: right;\n",
       "    }\n",
       "</style>\n",
       "<table border=\"1\" class=\"dataframe\">\n",
       "  <thead>\n",
       "    <tr style=\"text-align: right;\">\n",
       "      <th></th>\n",
       "      <th>age</th>\n",
       "      <th>workclass</th>\n",
       "      <th>fnlwgt</th>\n",
       "      <th>education</th>\n",
       "      <th>education-num</th>\n",
       "      <th>marital-status</th>\n",
       "      <th>occupation</th>\n",
       "      <th>relationship</th>\n",
       "      <th>race</th>\n",
       "      <th>sex</th>\n",
       "      <th>capital-gain</th>\n",
       "      <th>capital-loss</th>\n",
       "      <th>hours-per-week</th>\n",
       "      <th>native-country</th>\n",
       "      <th>income</th>\n",
       "    </tr>\n",
       "  </thead>\n",
       "  <tbody>\n",
       "    <tr>\n",
       "      <th>0</th>\n",
       "      <td>39</td>\n",
       "      <td>State-gov</td>\n",
       "      <td>77516</td>\n",
       "      <td>Bachelors</td>\n",
       "      <td>13</td>\n",
       "      <td>Never-married</td>\n",
       "      <td>Adm-clerical</td>\n",
       "      <td>Not-in-family</td>\n",
       "      <td>White</td>\n",
       "      <td>Male</td>\n",
       "      <td>2174</td>\n",
       "      <td>0</td>\n",
       "      <td>40</td>\n",
       "      <td>United-States</td>\n",
       "      <td>&lt;=50K</td>\n",
       "    </tr>\n",
       "    <tr>\n",
       "      <th>1</th>\n",
       "      <td>50</td>\n",
       "      <td>Self-emp-not-inc</td>\n",
       "      <td>83311</td>\n",
       "      <td>Bachelors</td>\n",
       "      <td>13</td>\n",
       "      <td>Married-civ-spouse</td>\n",
       "      <td>Exec-managerial</td>\n",
       "      <td>Husband</td>\n",
       "      <td>White</td>\n",
       "      <td>Male</td>\n",
       "      <td>0</td>\n",
       "      <td>0</td>\n",
       "      <td>13</td>\n",
       "      <td>United-States</td>\n",
       "      <td>&lt;=50K</td>\n",
       "    </tr>\n",
       "    <tr>\n",
       "      <th>2</th>\n",
       "      <td>38</td>\n",
       "      <td>Private</td>\n",
       "      <td>215646</td>\n",
       "      <td>HS-grad</td>\n",
       "      <td>9</td>\n",
       "      <td>Divorced</td>\n",
       "      <td>Handlers-cleaners</td>\n",
       "      <td>Not-in-family</td>\n",
       "      <td>White</td>\n",
       "      <td>Male</td>\n",
       "      <td>0</td>\n",
       "      <td>0</td>\n",
       "      <td>40</td>\n",
       "      <td>United-States</td>\n",
       "      <td>&lt;=50K</td>\n",
       "    </tr>\n",
       "    <tr>\n",
       "      <th>3</th>\n",
       "      <td>53</td>\n",
       "      <td>Private</td>\n",
       "      <td>234721</td>\n",
       "      <td>11th</td>\n",
       "      <td>7</td>\n",
       "      <td>Married-civ-spouse</td>\n",
       "      <td>Handlers-cleaners</td>\n",
       "      <td>Husband</td>\n",
       "      <td>Black</td>\n",
       "      <td>Male</td>\n",
       "      <td>0</td>\n",
       "      <td>0</td>\n",
       "      <td>40</td>\n",
       "      <td>United-States</td>\n",
       "      <td>&lt;=50K</td>\n",
       "    </tr>\n",
       "    <tr>\n",
       "      <th>4</th>\n",
       "      <td>28</td>\n",
       "      <td>Private</td>\n",
       "      <td>338409</td>\n",
       "      <td>Bachelors</td>\n",
       "      <td>13</td>\n",
       "      <td>Married-civ-spouse</td>\n",
       "      <td>Prof-specialty</td>\n",
       "      <td>Wife</td>\n",
       "      <td>Black</td>\n",
       "      <td>Female</td>\n",
       "      <td>0</td>\n",
       "      <td>0</td>\n",
       "      <td>40</td>\n",
       "      <td>Cuba</td>\n",
       "      <td>&lt;=50K</td>\n",
       "    </tr>\n",
       "  </tbody>\n",
       "</table>\n",
       "</div>"
      ],
      "text/plain": [
       "   age          workclass  fnlwgt   education  education-num       marital-status          occupation    relationship    race      sex  capital-gain  capital-loss  hours-per-week  native-country  income\n",
       "0   39          State-gov   77516   Bachelors             13        Never-married        Adm-clerical   Not-in-family   White     Male          2174             0              40   United-States   <=50K\n",
       "1   50   Self-emp-not-inc   83311   Bachelors             13   Married-civ-spouse     Exec-managerial         Husband   White     Male             0             0              13   United-States   <=50K\n",
       "2   38            Private  215646     HS-grad              9             Divorced   Handlers-cleaners   Not-in-family   White     Male             0             0              40   United-States   <=50K\n",
       "3   53            Private  234721        11th              7   Married-civ-spouse   Handlers-cleaners         Husband   Black     Male             0             0              40   United-States   <=50K\n",
       "4   28            Private  338409   Bachelors             13   Married-civ-spouse      Prof-specialty            Wife   Black   Female             0             0              40            Cuba   <=50K"
      ]
     },
     "execution_count": 11,
     "metadata": {},
     "output_type": "execute_result"
    }
   ],
   "source": [
    "df = pd.read_csv('adult.data', header=None, names=columns)\n",
    "\n",
    "df.head(5)"
   ]
  },
  {
   "cell_type": "code",
   "execution_count": 20,
   "id": "54debec3-9168-4f07-b6f0-9c855fe11902",
   "metadata": {},
   "outputs": [
    {
     "name": "stdout",
     "output_type": "stream",
     "text": [
      "Количество столбцов: 15\n"
     ]
    }
   ],
   "source": [
    "# 1) Число столбцов в наборе данных\n",
    "\n",
    "number_columns = df.shape[1]\n",
    "\n",
    "print(f\"Количество столбцов: {num_colums}\")"
   ]
  },
  {
   "cell_type": "code",
   "execution_count": 22,
   "id": "021bf319-3bd4-419b-b749-2517c9841a27",
   "metadata": {},
   "outputs": [
    {
     "name": "stdout",
     "output_type": "stream",
     "text": [
      "В workclass: 1836 пропусков\n",
      "В occupation: 1843 пропусков\n",
      "В native-country: 583 пропусков\n"
     ]
    }
   ],
   "source": [
    "# 2. Есть ли пропуски в данных? Если есть, то в каких столбцах\n",
    "\n",
    "missing_info = {}\n",
    "\n",
    "for column in df.columns:\n",
    "    num_missing = (df[column] == ' ?').sum()\n",
    "    \n",
    "    if num_missing > 0:\n",
    "        missing_info[column] = num_missing\n",
    "\n",
    "if missing_info:\n",
    "    for column, count in missing_info.items():\n",
    "        print(f\"В {column}: {count} пропусков\")\n",
    "else:\n",
    "    print(\"Пропусков нет\")"
   ]
  },
  {
   "cell_type": "code",
   "execution_count": 24,
   "id": "a991a5be-8a00-4352-8389-be1822f19577",
   "metadata": {},
   "outputs": [
    {
     "name": "stdout",
     "output_type": "stream",
     "text": [
      "Количество уникальных значений в столбце 'race': 5\n"
     ]
    }
   ],
   "source": [
    "# 3. Кол-во уникальных значений в столбце race\n",
    "\n",
    "unique_race_count = df['race'].nunique()\n",
    "\n",
    "print(f\"Количество уникальных значений в столбце 'race': {unique_race_count}\")"
   ]
  },
  {
   "cell_type": "code",
   "execution_count": 25,
   "id": "aec737fc-b47e-4861-a9b3-b598e5c1c7b8",
   "metadata": {},
   "outputs": [
    {
     "name": "stdout",
     "output_type": "stream",
     "text": [
      "Медиана 'hours-per-week': 40.0\n"
     ]
    }
   ],
   "source": [
    "# 4. Медиана hours-per-week\n",
    "median_hours_per_week = df['hours-per-week'].median()\n",
    "print(f\"Медиана 'hours-per-week': {median_hours_per_week}\")"
   ]
  },
  {
   "cell_type": "code",
   "execution_count": 36,
   "id": "91711678-94f1-4d43-a282-b2f3c5a2f7e2",
   "metadata": {},
   "outputs": [
    {
     "name": "stdout",
     "output_type": "stream",
     "text": [
      "Мужчин с ЗП >50K больше: 6662 против 1179\n"
     ]
    }
   ],
   "source": [
    "# 5. Сравнить количество мужчин и женщин с ЗП >50K\n",
    "high_income = df[df['income'] == ' >50K']\n",
    "male_count = (high_income['sex'] == ' Male').sum()\n",
    "female_count = (high_income['sex'] == ' Female').sum()\n",
    "\n",
    "if male_count > female_count:\n",
    "    print(f\"Мужчин с ЗП >50K больше: {male_count} против {female_count}\")\n",
    "else:\n",
    "    print(f\"Женщин с ЗП >50K больше: {female_count} против {male_count}\")"
   ]
  },
  {
   "cell_type": "code",
   "execution_count": 41,
   "id": "442b79f8-7dbe-45d8-bed1-c1938c7d772d",
   "metadata": {},
   "outputs": [],
   "source": [
    "# 6. Заполнить пропущенные данные наиболее частыми значениями\n",
    "columns = ['workclass', 'occupation', 'native-country']\n",
    "for col in columns:\n",
    "    most_common = df[col].mode()[0]\n",
    "    df.replace({col: ' ?'}, most_common, inplace=True)"
   ]
  },
  {
   "cell_type": "code",
   "execution_count": 42,
   "id": "5c891333-1cd6-4ba0-958d-2b5141ff8110",
   "metadata": {},
   "outputs": [
    {
     "name": "stdout",
     "output_type": "stream",
     "text": [
      "Пропусков нет\n"
     ]
    }
   ],
   "source": [
    "# проверка на заполнение\n",
    "\n",
    "missing_info = {}\n",
    "\n",
    "for column in df.columns:\n",
    "    num_missing = (df[column] == ' ?').sum()\n",
    "    \n",
    "    if num_missing > 0:\n",
    "        missing_info[column] = num_missing\n",
    "\n",
    "if missing_info:\n",
    "    for column, count in missing_info.items():\n",
    "        print(f\"В {column}: {count} пропусков\")\n",
    "else:\n",
    "    print(\"Пропусков нет\")"
   ]
  },
  {
   "cell_type": "code",
   "execution_count": null,
   "id": "e5056ac3-e551-4b1a-935c-866f75ee66d1",
   "metadata": {},
   "outputs": [],
   "source": []
  }
 ],
 "metadata": {
  "kernelspec": {
   "display_name": "Python 3 (ipykernel)",
   "language": "python",
   "name": "python3"
  },
  "language_info": {
   "codemirror_mode": {
    "name": "ipython",
    "version": 3
   },
   "file_extension": ".py",
   "mimetype": "text/x-python",
   "name": "python",
   "nbconvert_exporter": "python",
   "pygments_lexer": "ipython3",
   "version": "3.11.3"
  }
 },
 "nbformat": 4,
 "nbformat_minor": 5
}
